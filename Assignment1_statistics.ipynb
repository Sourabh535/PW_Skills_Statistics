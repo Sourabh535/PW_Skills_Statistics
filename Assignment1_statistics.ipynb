{
 "cells": [
  {
   "cell_type": "markdown",
   "id": "da0f5d1f-8a8a-4b8c-a5e5-8890ff63562b",
   "metadata": {},
   "source": [
    "# Q1. What is Statistics?"
   ]
  },
  {
   "cell_type": "code",
   "execution_count": 20,
   "id": "6d718b80-3491-48c5-86c4-63c907f6f478",
   "metadata": {},
   "outputs": [],
   "source": [
    "\n",
    "# Ans Statistics is the branch of mathematics which deal with the collecting, organizing and analyzing the data."
   ]
  },
  {
   "cell_type": "markdown",
   "id": "d2c03ea8-cc78-4c5d-86c7-a7b28b5f8c96",
   "metadata": {},
   "source": [
    "# Q2. Define the different types of statistics and give an example of when each type might be used."
   ]
  },
  {
   "cell_type": "code",
   "execution_count": null,
   "id": "1e6b8988-8a24-44b0-b7a2-db4a269ec61c",
   "metadata": {},
   "outputs": [],
   "source": [
    "# # Ans Statistics have majorly categorised into two types:\n",
    "\n",
    "# #  1 Descriptive statistics\n",
    "# #  2 Inferential statistics\n",
    "# #  1 Descriptive statistics is a way to organise, represent and describe a collection of data \n",
    "# #   using tables, graphs, and summary measures. \n",
    "# #    For example, the collection of people in a city using the internet or using Television.\n",
    "\n",
    "# #  2  Inferential statistics is used to interpret the meaning of Descriptive statistics. \n",
    "# That means once the data has been collected, analysed and summarised then we use these stats to \n",
    "# describe the meaning of the collected data. Or we can say, it is used to draw conclusions from the data. \n",
    "# For example, deriving estimates from hypothetical research.\n",
    "# # For Example\n",
    "# # In a class, the collection of marks obtained by 50 students is the description of data. \n",
    "# Now when we take out the mean of the data, the result is the average of marks of 50 students. \n",
    "# If the average mark obtained by 50 students is 88 out of 100, then we can reach to a conclusion \n",
    "# or give a judgment on the basis of the result. \n"
   ]
  },
  {
   "cell_type": "code",
   "execution_count": null,
   "id": "7fe11b7d-fb23-4c9e-8bec-1455e9097da7",
   "metadata": {},
   "outputs": [],
   "source": [
    "# Q3. What are the different types of data and how do they differ from each other? Provide an example of each type of data."
   ]
  },
  {
   "cell_type": "code",
   "execution_count": null,
   "id": "9db63934-d50f-41dd-8626-90fefaf53cbe",
   "metadata": {},
   "outputs": [],
   "source": [
    "# Broadly Data is classified into two types:\n",
    "# 1. Quantitative data:  which contains the numerical value. Example: 1,4,74.32 etc\n",
    "# 2. Qualitative data: Which contins the categorical values. Example: Male, female, degree etc\n",
    "\n",
    "# 1.  Quantitative data is further classified into two types :\n",
    "# (a) Discrete : Its contains the whole nnumber value, fixed numbe,  No decimal. For example: No of children [1,2,3] etc\n",
    "# (b) Continous : Contains any numerical value : Example: Weights, Heights\n",
    "\n",
    "# 2. Qualitative data is further classified into two types :\n",
    "# (a) Nominal: No rank to the categories. for example: colors, gender ,blood group etc\n",
    "# (b) Ordinal : Rank is considered here. for example: Customer feedback etc"
   ]
  },
  {
   "cell_type": "markdown",
   "id": "ac7eb2ce-79ce-42b6-a294-f97c1be89dce",
   "metadata": {},
   "source": [
    "# Q4. Categorise the following datasets with respect to quantitative and qualitative data types:\n",
    "# (i) Grading in exam: A+, A, B+, B, C+, C, D, E\n",
    "# (ii) Colour of mangoes: yellow, green, orange, red\n",
    "# (iii) Height data of a class: [178.9, 179, 179.5, 176, 177.2, 178.3, 175.8,...]\n",
    "# (iv) Number of mangoes exported by a farm: [500, 600, 478, 672, ...]"
   ]
  },
  {
   "cell_type": "code",
   "execution_count": null,
   "id": "e20208f2-24bb-46ec-9799-410b470cda5e",
   "metadata": {},
   "outputs": [],
   "source": [
    "# Ans (i) Qualitative data type with ordinal data because we can rank the grade\n",
    "# (ii) Qualitative data type with nominal type because we cannot rank the colors\n",
    "# (iii) Quantitative data type with continous value\n",
    "# (iv)  Quantitative data type with discrete value"
   ]
  },
  {
   "cell_type": "markdown",
   "id": "b2e8b451-339f-4678-843b-524cb12971ac",
   "metadata": {},
   "source": [
    "# Q5. Explain the concept of levels of measurement and give an example of a variable for each level."
   ]
  },
  {
   "cell_type": "code",
   "execution_count": null,
   "id": "c7e54db8-c001-4b37-a7ef-2abd840f41b1",
   "metadata": {},
   "outputs": [],
   "source": [
    "# In statistics, level of measurement is a classification that relates the values that are assigned to variables with each other. In other words, level of measurement is used to describe information within the values.\n",
    "# There are four level of measurement:\n",
    "# 1. Nominal scales\n",
    "# Qualitative and Categorical data. Order does not matter. In nominal scales, the numbers assigned to each variable or observation are only used to classify the variable or observation. For example, a fund manager may choose to assign the number 1 to small-cap stocks, the number 2 to corporate bonds, the number 3 to derivatives, and so on.\n",
    "# 2. Ordinal scales\n",
    "# Order is important. In ordinal scales, there is an ordered relationship between the variable’s observations. For example, a list of 500 managers of mutual funds may be ranked by assigning the number 1 to the best-performing manager, the number 2 to the second best-performing manager, and so on.\n",
    "\n",
    "# 3. Interval scales\n",
    "# Interval scales present more information than ordinal scales in that they provide assurance that the differences between values are equal. In other words, interval scales are ordinal scales but with equivalent scale values from low to high intervals.\n",
    "\n",
    "# For example, temperature measurement is an example of an interval scale: 60°C is colder than 65°C, and the temperature difference is the same as the difference between 50°C and 55°C. In other words, the difference of 5°C in both intervals shares the same interpretation and meaning.\n",
    "# A drawback in interval scales is that they do not have a true zero point. \n",
    "\n",
    "# 4. Ratio scales\n",
    "# Ratio scales are the most informative scales. Ratio scales provide rankings, assure equal differences between scale values, and have a true zero point. In essence, a ratio scale can be thought of as nominal, ordinal, and interval scales combined as one.\n",
    "\n",
    "# For example, the measurement of money is an example of a ratio scale. An individual with $0 has an absence of money. With a true zero point, it would be correct to say that someone with $100 has twice as much money as someone with $50."
   ]
  },
  {
   "cell_type": "markdown",
   "id": "7d050b7c-1d7a-45b4-9ca7-96dca1ccbadb",
   "metadata": {},
   "source": [
    "# Q6. Why is it important to understand the level of measurement when analyzing data? Provide an example to illustrate your answer."
   ]
  },
  {
   "cell_type": "code",
   "execution_count": null,
   "id": "b950cf88-2982-48a7-af1f-01aa7b1a72de",
   "metadata": {},
   "outputs": [],
   "source": [
    "# It is important to understand the level of measurement of variables in research, \n",
    "# because the level of measurement determines the type of statistical analysis that can be conducted, and, \n",
    "# therefore, the type of conclusions that can be drawn from the research.\n",
    "# The levels of measurement help us determine what statistical technique is appropriate to use. \n",
    "# For example, if the level of measurement of your variable is nominal (the least precise and informative variable), \n",
    "# you can use mode to summarize your variable, but not median or mean."
   ]
  },
  {
   "cell_type": "markdown",
   "id": "e6155c6a-b0fe-4e01-ac78-c2125618d04d",
   "metadata": {},
   "source": [
    "# Q7. How nominal data type is different from ordinal data type."
   ]
  },
  {
   "cell_type": "code",
   "execution_count": null,
   "id": "7f2aa700-b39d-4bf3-b1af-c80921cc83a9",
   "metadata": {},
   "outputs": [],
   "source": [
    "# Nomial datatype there is no rank  but in ordinal rank matter. \n",
    "# Nominal data is a group of non-parametric variables, whereas Ordinal data is a group of non-parametric ordered variables.\n",
    "# Ordinal data is analyzed by mode, median, quartiles, and percentile, whereas nominal data is analyzed by grouping variables into categories and calculating the distribution mode.\n",
    "# Nominal data are categorical, whereas Ordinal data are both categorical and quantitative.\n",
    "# Both nominal and ordinal data can be analyzed using percentage and mode.\n",
    "\n",
    "# Nominal example : Blood Type: A, B, O, AB\n",
    "# Sex: Male, Female\n",
    "# Marital Status: Single, Married, Divorced\n",
    "\n",
    "# Ordinal example: Grades: A, B, C, D, F\n",
    "# Rating: Worst, Poor, Neutral, Good, Excellent\n",
    "# Income Group: High, Medium, Low\n",
    "# Education: 12th, Graduate, Post-Graduate, PhD"
   ]
  },
  {
   "cell_type": "markdown",
   "id": "db54540e-0fd8-45b7-be9e-842489454ceb",
   "metadata": {},
   "source": [
    "# Q8. Which type of plot can be used to display data in terms of range?"
   ]
  },
  {
   "cell_type": "code",
   "execution_count": null,
   "id": "e1e814ac-37d7-4b41-ba99-18236b2ecf60",
   "metadata": {},
   "outputs": [],
   "source": [
    "# A histogram divides up the range of possible values in a data set into classes or groups."
   ]
  },
  {
   "cell_type": "markdown",
   "id": "3bd3fdf4-19ae-4c18-99e0-cc967042e347",
   "metadata": {},
   "source": [
    "# Q9. Describe the difference between descriptive and inferential statistics. Give an example of each type of statistics and explain how they are used."
   ]
  },
  {
   "cell_type": "code",
   "execution_count": null,
   "id": "66604a71-2c6c-4d97-b481-3f63c77b2e86",
   "metadata": {},
   "outputs": [],
   "source": [
    "# 1 Descriptive statistics is a way to organise, represent and describe a collection of data \n",
    "#   using tables, graphs, and summary measures. \n",
    "#    For example, the collection of people in a city using the internet or using Television.\n",
    "#    Measure of central tendency : Mean, Median, Mode\n",
    "#    Measure of dispesion: Range, Standard deviation and variance\n",
    "\n",
    "# 2  Inferential statistics is used to interpret the meaning of Descriptive statistics. That means once the data has been collected, analysed and summarised then we use these stats to describe the meaning of the collected data. Or we can say, it is used to draw conclusions from the data. For example, deriving estimates from hypothetical research.\n",
    "# For Example\n",
    "# In a class, the collection of marks obtained by 50 students is the description of data. Now when we take out the mean of the data, the result is the average of marks of 50 students. If the average mark obtained by 50 students is 88 out of 100, then we can reach to a conclusion or give a judgment on the basis of the result.\n",
    "# Hypothesis testing: z test, t test, f test\n",
    "# Regression analysis\n",
    "\n"
   ]
  },
  {
   "cell_type": "markdown",
   "id": "a500e9ce-36e4-4663-8231-5ee98ffd1122",
   "metadata": {},
   "source": [
    "# Q10. What are some common measures of central tendency and variability used in statistics? Explain how each measure can be used to describe a dataset."
   ]
  },
  {
   "cell_type": "code",
   "execution_count": null,
   "id": "ec865dfa-dc6c-4eaa-8c56-ae5cdf99e26b",
   "metadata": {},
   "outputs": [],
   "source": [
    "# Measure of central tendency : Mean, Median, Mode\n",
    "\n",
    "# Mean: The sum of all measurements divided by the number of observations.Can be used with discrete and continuous data. It is value that is most common\n",
    "# Median: The middle value that separates the higher half from the lower half. Mean and median can be compared with each other to determine if the population is of normal distribution or not. Numbers are arranged in either ascending or descending order. The middle number is than taken.\n",
    "# Mode: The most frequent value. It shows most popular option and is the highest bar in histogram.Example of use: to determine the most common blood group.\n",
    "\n",
    "# Measure of dispesion: Range, Standard deviation and variance\n",
    "# 1. Variance: A measure of how far a set of numbers are spread out from each other. It describes how far the numbers lie from the mean (expected value). It is the square of standard deviation.\n",
    "# 2. Standard deviation (SD): It is only used for data that are “normally distributed”. SD indicates how much a set of values is spread around the average. SD is determined by the variance (SD=the root of the variance).\n",
    "# 3. Interquartile range (IQR): The interquartile range (IQR), is also known as the 'midspread' or 'middle fifty', is a measure of statistical dispersion, being equal to the difference between the third and first quartiles. IQR = Q3 − Q1. Unlike (total) range, the interquartile range is a more commonly used statistic, since it excludes the lower 25% and upper 25%, therefore reflecting more accurately valid values and excluding the outliers.\n",
    "# 4. Range: It is the length of the smallest interval which contains all the data and is calculated by subtracting the smallest observation (sample minimum) from the greatest (sample maximum) and provides an indication of statistical dispersion. It bears the same units as the data used for calculating it. Because of its dependance on just two observations, it tends to be a poor and weak measure of dispersion, with the only exception being when the sample size is large.\n"
   ]
  },
  {
   "cell_type": "code",
   "execution_count": null,
   "id": "3caa5818-2ac8-4718-a2a4-489cfb39e9cf",
   "metadata": {},
   "outputs": [],
   "source": []
  }
 ],
 "metadata": {
  "kernelspec": {
   "display_name": "Python 3 (ipykernel)",
   "language": "python",
   "name": "python3"
  },
  "language_info": {
   "codemirror_mode": {
    "name": "ipython",
    "version": 3
   },
   "file_extension": ".py",
   "mimetype": "text/x-python",
   "name": "python",
   "nbconvert_exporter": "python",
   "pygments_lexer": "ipython3",
   "version": "3.10.8"
  }
 },
 "nbformat": 4,
 "nbformat_minor": 5
}
