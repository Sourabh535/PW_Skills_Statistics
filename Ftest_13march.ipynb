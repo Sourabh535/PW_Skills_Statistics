{
 "cells": [
  {
   "cell_type": "code",
   "execution_count": 1,
   "id": "ff909837-f19f-46af-9c59-a0ec9b023d5b",
   "metadata": {},
   "outputs": [],
   "source": [
    "# evidence to say that two population variance are not equal\n",
    "worker1 = [18,15,45,32,12,45,63,45,41,12]\n",
    "worker2 = [12,41,13,41,23,42,32,12,15,31]"
   ]
  },
  {
   "cell_type": "code",
   "execution_count": 2,
   "id": "9c6dadb6-d3de-4fae-adc7-626500424b1b",
   "metadata": {},
   "outputs": [],
   "source": [
    "# calculating f test"
   ]
  },
  {
   "cell_type": "code",
   "execution_count": 3,
   "id": "31025b38-cd71-4abd-85fb-d9215a3653e9",
   "metadata": {},
   "outputs": [],
   "source": [
    "import numpy as np"
   ]
  },
  {
   "cell_type": "code",
   "execution_count": 5,
   "id": "841ca664-a0f3-417e-89d5-e5beae1ef5a8",
   "metadata": {},
   "outputs": [],
   "source": [
    "f_test = np.var(worker1)/(np.var(worker2))"
   ]
  },
  {
   "cell_type": "code",
   "execution_count": 6,
   "id": "c5a53ca9-48a1-479f-8a81-078d6f5baa3c",
   "metadata": {},
   "outputs": [
    {
     "data": {
      "text/plain": [
       "1.9399012074643254"
      ]
     },
     "execution_count": 6,
     "metadata": {},
     "output_type": "execute_result"
    }
   ],
   "source": [
    "f_test"
   ]
  },
  {
   "cell_type": "code",
   "execution_count": 7,
   "id": "7b012085-d580-4a0d-9922-04ae9d68ae96",
   "metadata": {},
   "outputs": [],
   "source": [
    "# degree of freedom\n",
    "df1 = len(worker1) - 1\n",
    "df2 = len(worker2) - 1"
   ]
  },
  {
   "cell_type": "code",
   "execution_count": 9,
   "id": "cd9e784f-4e3e-4d1a-b43e-a48e4e70cbc0",
   "metadata": {},
   "outputs": [],
   "source": [
    "significance_level = 0.05"
   ]
  },
  {
   "cell_type": "code",
   "execution_count": 8,
   "id": "5c43f66a-6a24-4157-a6aa-d30069fa0cf9",
   "metadata": {},
   "outputs": [],
   "source": [
    "import scipy.stats as stat"
   ]
  },
  {
   "cell_type": "code",
   "execution_count": 11,
   "id": "f235bc6a-5f24-45c1-a36f-391342d88784",
   "metadata": {},
   "outputs": [],
   "source": [
    "critical_value = stat.f.ppf(q = 1-significance_level, dfn = df1 , dfd = df2)"
   ]
  },
  {
   "cell_type": "code",
   "execution_count": 12,
   "id": "78bf6ecf-62b9-4e0c-ba79-b613d25da843",
   "metadata": {},
   "outputs": [
    {
     "data": {
      "text/plain": [
       "3.178893104458269"
      ]
     },
     "execution_count": 12,
     "metadata": {},
     "output_type": "execute_result"
    }
   ],
   "source": [
    "critical_value"
   ]
  },
  {
   "cell_type": "code",
   "execution_count": 13,
   "id": "ad94706f-12ba-4668-b0b9-57f8d630d492",
   "metadata": {},
   "outputs": [
    {
     "name": "stdout",
     "output_type": "stream",
     "text": [
      "We fail to reject the null hypothesis\n"
     ]
    }
   ],
   "source": [
    "if f_test > critical_value:\n",
    "    print(\"Reject the null hypothesis\")\n",
    "else:\n",
    "    print(\"We fail to reject the null hypothesis\")"
   ]
  },
  {
   "cell_type": "code",
   "execution_count": 14,
   "id": "9f19d058-87a8-458b-88d5-a2627addb8c8",
   "metadata": {},
   "outputs": [],
   "source": [
    "# CONCLUSION BOTH THE PERFORMACE ARE DIFFERENT"
   ]
  },
  {
   "cell_type": "code",
   "execution_count": null,
   "id": "56b287b5-5a1a-409e-8365-141368e291f2",
   "metadata": {},
   "outputs": [],
   "source": []
  }
 ],
 "metadata": {
  "kernelspec": {
   "display_name": "Python 3 (ipykernel)",
   "language": "python",
   "name": "python3"
  },
  "language_info": {
   "codemirror_mode": {
    "name": "ipython",
    "version": 3
   },
   "file_extension": ".py",
   "mimetype": "text/x-python",
   "name": "python",
   "nbconvert_exporter": "python",
   "pygments_lexer": "ipython3",
   "version": "3.10.8"
  }
 },
 "nbformat": 4,
 "nbformat_minor": 5
}
