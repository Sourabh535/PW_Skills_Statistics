{
 "cells": [
  {
   "cell_type": "markdown",
   "id": "50a098ff-30a5-4c6d-97e5-6968b6dcd45d",
   "metadata": {},
   "source": [
    "# Q1. What are the three measures of central tendency?"
   ]
  },
  {
   "cell_type": "code",
   "execution_count": 1,
   "id": "1c2bd82c-2580-43f3-9cb9-889a6ab1ae47",
   "metadata": {},
   "outputs": [],
   "source": [
    "# Measures of central tendency are summary statistics that represent the center point or typical value of a dataset.\n",
    "# 1. Mean- Sum of all observations divided by the total number of observations.\n",
    "# 2. Median- The middle or central value in an ordered set.\n",
    "# 3. Mode- The most frequently occurring value in a data set."
   ]
  },
  {
   "cell_type": "markdown",
   "id": "b9d4171a-a5c6-45dd-bc39-4a9c6cad4f5b",
   "metadata": {},
   "source": [
    "# Q2. What is the difference between the mean, median, and mode? How are they used to measure the central tendency of a dataset?"
   ]
  },
  {
   "cell_type": "code",
   "execution_count": 2,
   "id": "52ebab62-9ebf-4d8b-bce6-4bb6a77aeca8",
   "metadata": {},
   "outputs": [],
   "source": [
    "# Difference: The mode is the most frequent value. \n",
    "# The median is the middle number in an ordered data set. \n",
    "# The mean is the sum of all values divided by the total number of values.\n",
    "# The selection of a central tendency measure depends on the properties of a dataset. \n",
    "# For instance, the mode is the only central tendency measure for categorical data, while a median works best with ordinal data.\n",
    "\n",
    "# Although the mean is regarded as the best measure of central tendency for quantitative data, that is not always the case. \n",
    "# For example, the mean may not work well with quantitative datasets that contain extremely large or extremely small values. \n",
    "# The extreme values may distort the mean. Thus, you may consider other measures."
   ]
  },
  {
   "cell_type": "markdown",
   "id": "98ac127d-6dd5-4e92-9613-569ebacd7f69",
   "metadata": {},
   "source": [
    "# Q3. Measure the three measures of central tendency for the given height data:\n",
    "# [178,177,176,177,178.2,178,175,179,180,175,178.9,176.2,177,172.5,178,176.5]"
   ]
  },
  {
   "cell_type": "code",
   "execution_count": 3,
   "id": "8d2882de-29b7-4f43-a780-3c1c4c820e45",
   "metadata": {},
   "outputs": [],
   "source": [
    "list = [178,177,176,177,178.2,178,175,179,180,175,178.9,176.2,177,172.5,178,176.5]\n",
    "# n = 16\n",
    "# sum of all observation"
   ]
  },
  {
   "cell_type": "code",
   "execution_count": 7,
   "id": "c36b1980-1906-408d-8e12-633695e0d0e4",
   "metadata": {},
   "outputs": [],
   "source": [
    "# calculating mean\n",
    "sum = sum(list)"
   ]
  },
  {
   "cell_type": "code",
   "execution_count": 8,
   "id": "98c90659-7352-4e7d-8ee9-3a214472fc53",
   "metadata": {},
   "outputs": [
    {
     "name": "stdout",
     "output_type": "stream",
     "text": [
      "177.01875\n"
     ]
    }
   ],
   "source": [
    "mean = print((sum/16))"
   ]
  },
  {
   "cell_type": "code",
   "execution_count": 9,
   "id": "fdf7ea16-38e4-4c23-b346-bbcec7075e98",
   "metadata": {},
   "outputs": [
    {
     "data": {
      "text/plain": [
       "2832.3"
      ]
     },
     "execution_count": 9,
     "metadata": {},
     "output_type": "execute_result"
    }
   ],
   "source": [
    "sum"
   ]
  },
  {
   "cell_type": "code",
   "execution_count": 10,
   "id": "ae90c097-5b8f-4192-89c1-720a1a2a8d41",
   "metadata": {},
   "outputs": [],
   "source": [
    "# calculating median\n",
    "# total no of observation = 16\n",
    "# It is a even number, so there are 2 median values and then i have to take the avergae values"
   ]
  },
  {
   "cell_type": "code",
   "execution_count": 22,
   "id": "d284e8fc-6d5e-4378-a841-f1a74c36d2ac",
   "metadata": {},
   "outputs": [],
   "source": [
    "# first step is to sort the values\n",
    "list = [178,177,176,177,178.2,178,175,179,180,175,178.9,176.2,177,172.5,178,176.5]"
   ]
  },
  {
   "cell_type": "code",
   "execution_count": 24,
   "id": "d3a93a48-5461-4f6b-a3fb-a6f0459584ea",
   "metadata": {},
   "outputs": [],
   "source": [
    "list.sort()"
   ]
  },
  {
   "cell_type": "code",
   "execution_count": 26,
   "id": "55b84f38-33d7-4418-b8d0-3927f34941ac",
   "metadata": {},
   "outputs": [
    {
     "name": "stdout",
     "output_type": "stream",
     "text": [
      "[172.5, 175, 175, 176, 176.2, 176.5, 177, 177, 177, 178, 178, 178, 178.2, 178.9, 179, 180]\n"
     ]
    }
   ],
   "source": [
    "print(list)"
   ]
  },
  {
   "cell_type": "code",
   "execution_count": 28,
   "id": "ffa1138d-07cf-4b02-b979-8b534a7f444c",
   "metadata": {},
   "outputs": [
    {
     "data": {
      "text/plain": [
       "8.0"
      ]
     },
     "execution_count": 28,
     "metadata": {},
     "output_type": "execute_result"
    }
   ],
   "source": [
    "# next step is to take 2 median values using (n/2) and (n/2) + 1 and take a average of these values\n",
    "16/2"
   ]
  },
  {
   "cell_type": "code",
   "execution_count": 29,
   "id": "c3a0fb5d-f04d-4ad3-b330-34e6f2ba1415",
   "metadata": {},
   "outputs": [],
   "source": [
    "# median values are 8 and 9 "
   ]
  },
  {
   "cell_type": "code",
   "execution_count": 32,
   "id": "dd659c51-ebd6-4ddf-a780-854c7532c9b0",
   "metadata": {},
   "outputs": [],
   "source": [
    "a = list[7]"
   ]
  },
  {
   "cell_type": "code",
   "execution_count": 33,
   "id": "27fffe56-55f3-4b51-9f1a-0ed3cc815c32",
   "metadata": {},
   "outputs": [],
   "source": [
    "b = list[8]"
   ]
  },
  {
   "cell_type": "code",
   "execution_count": 35,
   "id": "da050b06-83f7-498b-9d27-d17fb2788f83",
   "metadata": {},
   "outputs": [],
   "source": [
    "# median\n",
    "median = (a+b)/2"
   ]
  },
  {
   "cell_type": "code",
   "execution_count": 36,
   "id": "06fa36ca-60ee-48f7-b6d1-06bc8e6e7250",
   "metadata": {},
   "outputs": [
    {
     "data": {
      "text/plain": [
       "177.0"
      ]
     },
     "execution_count": 36,
     "metadata": {},
     "output_type": "execute_result"
    }
   ],
   "source": [
    "median"
   ]
  },
  {
   "cell_type": "code",
   "execution_count": 37,
   "id": "83b3610c-95cc-4f6f-bf4e-8747a6b1aa3e",
   "metadata": {},
   "outputs": [],
   "source": [
    "# Direct methood to calculate median\n",
    "import statistics"
   ]
  },
  {
   "cell_type": "code",
   "execution_count": 38,
   "id": "50e091d8-721c-4d0b-991e-0c3493ff3a78",
   "metadata": {},
   "outputs": [
    {
     "name": "stdout",
     "output_type": "stream",
     "text": [
      "177.0\n"
     ]
    }
   ],
   "source": [
    "print(statistics.median([172.5, 175, 175, 176, 176.2, 176.5, 177, 177, 177, 178, 178, 178, 178.2, 178.9, 179, 180]))"
   ]
  },
  {
   "cell_type": "code",
   "execution_count": 39,
   "id": "486f61d4-d99d-415f-b401-55b430dcb815",
   "metadata": {},
   "outputs": [],
   "source": [
    "# Mode = Most repetating value"
   ]
  },
  {
   "cell_type": "code",
   "execution_count": 40,
   "id": "668bf48d-cc8a-48b7-919d-1bfbadf14f01",
   "metadata": {},
   "outputs": [
    {
     "name": "stdout",
     "output_type": "stream",
     "text": [
      "177\n"
     ]
    }
   ],
   "source": [
    "print(statistics.mode(list))"
   ]
  },
  {
   "cell_type": "markdown",
   "id": "92283d98-54ed-4580-b365-56b167877df4",
   "metadata": {},
   "source": [
    "# ANS\n",
    "# Mean: 177.01875\n",
    "# Median : 177.0\n",
    "# Mode :177"
   ]
  },
  {
   "cell_type": "markdown",
   "id": "8fb15f7a-33e5-4882-b284-7c069f923968",
   "metadata": {},
   "source": [
    "# Q4. Find the standard deviation for the given data:\n",
    "# [178,177,176,177,178.2,178,175,179,180,175,178.9,176.2,177,172.5,178,176.5]"
   ]
  },
  {
   "cell_type": "code",
   "execution_count": 42,
   "id": "ea791324-4344-43e7-9eff-fad7aef9e905",
   "metadata": {},
   "outputs": [],
   "source": [
    "list = [178,177,176,177,178.2,178,175,179,180,175,178.9,176.2,177,172.5,178,176.5]"
   ]
  },
  {
   "cell_type": "code",
   "execution_count": 43,
   "id": "8782da40-c913-47fb-8730-b563c6ba2698",
   "metadata": {},
   "outputs": [],
   "source": [
    "list.sort()"
   ]
  },
  {
   "cell_type": "code",
   "execution_count": 44,
   "id": "918a80e8-123f-4885-bbf0-7c272d5815f5",
   "metadata": {},
   "outputs": [
    {
     "data": {
      "text/plain": [
       "[172.5,\n",
       " 175,\n",
       " 175,\n",
       " 176,\n",
       " 176.2,\n",
       " 176.5,\n",
       " 177,\n",
       " 177,\n",
       " 177,\n",
       " 178,\n",
       " 178,\n",
       " 178,\n",
       " 178.2,\n",
       " 178.9,\n",
       " 179,\n",
       " 180]"
      ]
     },
     "execution_count": 44,
     "metadata": {},
     "output_type": "execute_result"
    }
   ],
   "source": [
    "list"
   ]
  },
  {
   "cell_type": "code",
   "execution_count": 45,
   "id": "dbb75514-58aa-400b-b24e-37f6d9ee81ab",
   "metadata": {},
   "outputs": [],
   "source": [
    "# mean =  177.01875\n",
    "list2 = []\n",
    "for i in list:\n",
    "    list2.append(i-177.01875)"
   ]
  },
  {
   "cell_type": "code",
   "execution_count": 46,
   "id": "ed76a984-fcc7-4c5e-80e4-023f66bdb6b6",
   "metadata": {},
   "outputs": [
    {
     "data": {
      "text/plain": [
       "[-4.518750000000011,\n",
       " -2.0187500000000114,\n",
       " -2.0187500000000114,\n",
       " -1.0187500000000114,\n",
       " -0.8187500000000227,\n",
       " -0.5187500000000114,\n",
       " -0.01875000000001137,\n",
       " -0.01875000000001137,\n",
       " -0.01875000000001137,\n",
       " 0.9812499999999886,\n",
       " 0.9812499999999886,\n",
       " 0.9812499999999886,\n",
       " 1.1812499999999773,\n",
       " 1.8812499999999943,\n",
       " 1.9812499999999886,\n",
       " 2.9812499999999886]"
      ]
     },
     "execution_count": 46,
     "metadata": {},
     "output_type": "execute_result"
    }
   ],
   "source": [
    "# list2 will be(x(mean) - x)\n",
    "list2"
   ]
  },
  {
   "cell_type": "code",
   "execution_count": 47,
   "id": "d19f86af-d1e4-4894-b89e-4cd798060d86",
   "metadata": {},
   "outputs": [],
   "source": [
    "# next step is square root of list2\n",
    "list3 = []\n",
    "for i in list2:\n",
    "    list3.append(i**2)"
   ]
  },
  {
   "cell_type": "code",
   "execution_count": 48,
   "id": "bb86008f-155b-4d92-9122-571a8cf42119",
   "metadata": {},
   "outputs": [
    {
     "data": {
      "text/plain": [
       "[20.419101562500103,\n",
       " 4.075351562500046,\n",
       " 4.075351562500046,\n",
       " 1.037851562500023,\n",
       " 0.6703515625000372,\n",
       " 0.26910156250001177,\n",
       " 0.00035156250000042635,\n",
       " 0.00035156250000042635,\n",
       " 0.00035156250000042635,\n",
       " 0.9628515624999777,\n",
       " 0.9628515624999777,\n",
       " 0.9628515624999777,\n",
       " 1.3953515624999462,\n",
       " 3.5391015624999786,\n",
       " 3.925351562499955,\n",
       " 8.887851562499932]"
      ]
     },
     "execution_count": 48,
     "metadata": {},
     "output_type": "execute_result"
    }
   ],
   "source": [
    "list3"
   ]
  },
  {
   "cell_type": "code",
   "execution_count": 51,
   "id": "4289811d-118a-4f8d-9918-966677aac38a",
   "metadata": {},
   "outputs": [
    {
     "data": {
      "text/plain": [
       "list"
      ]
     },
     "execution_count": 51,
     "metadata": {},
     "output_type": "execute_result"
    }
   ],
   "source": [
    "# then we all alll the elements of list3\n",
    "type(list3)"
   ]
  },
  {
   "cell_type": "code",
   "execution_count": 55,
   "id": "39ce8bd8-6d46-43dd-b892-0b908da77553",
   "metadata": {},
   "outputs": [],
   "source": [
    "import math\n",
    "total = math.fsum(list3)"
   ]
  },
  {
   "cell_type": "code",
   "execution_count": 56,
   "id": "a96f3032-2f29-425e-9e96-d970ea500fac",
   "metadata": {},
   "outputs": [
    {
     "data": {
      "text/plain": [
       "51.18437500000002"
      ]
     },
     "execution_count": 56,
     "metadata": {},
     "output_type": "execute_result"
    }
   ],
   "source": [
    "total"
   ]
  },
  {
   "cell_type": "code",
   "execution_count": 62,
   "id": "aba94332-5855-4ce9-8ffe-c9e484c1a048",
   "metadata": {},
   "outputs": [],
   "source": [
    "# standard deviation\n",
    "variance = total/16"
   ]
  },
  {
   "cell_type": "code",
   "execution_count": 63,
   "id": "6a5070d5-aa74-4b4a-a491-762c231117f8",
   "metadata": {},
   "outputs": [
    {
     "data": {
      "text/plain": [
       "3.199023437500001"
      ]
     },
     "execution_count": 63,
     "metadata": {},
     "output_type": "execute_result"
    }
   ],
   "source": [
    "# standard deviation\n",
    "variance"
   ]
  },
  {
   "cell_type": "code",
   "execution_count": 64,
   "id": "189cf15c-d58e-4b71-9aaa-d31bab259d0e",
   "metadata": {},
   "outputs": [
    {
     "data": {
      "text/plain": [
       "1.7885814036548633"
      ]
     },
     "execution_count": 64,
     "metadata": {},
     "output_type": "execute_result"
    }
   ],
   "source": [
    "std = variance**0.5\n",
    "std"
   ]
  },
  {
   "cell_type": "code",
   "execution_count": 61,
   "id": "47096dbb-27d9-40c6-9ff4-5aea44270f3d",
   "metadata": {},
   "outputs": [
    {
     "name": "stdout",
     "output_type": "stream",
     "text": [
      "1.7885814036548633\n"
     ]
    }
   ],
   "source": [
    "# Direct method to calculate standard deviation\n",
    "print(statistics.pstdev(list))"
   ]
  },
  {
   "cell_type": "markdown",
   "id": "9ae5c648-2edc-416d-98a0-de817a2d75c2",
   "metadata": {},
   "source": [
    "# Q5. How are measures of dispersion such as range, variance, and standard deviation used to describe the spread of a dataset? Provide an example."
   ]
  },
  {
   "cell_type": "code",
   "execution_count": 66,
   "id": "65617417-ee55-4ca3-a7a1-3e2ded6c299a",
   "metadata": {},
   "outputs": [],
   "source": [
    "# 1. Range = Highest_value  – Lowest_value\n",
    "# The wide range indicates high variability, and the small range specifies low variability in the distribution\n",
    "# 2. Variance = Variance is a simple measure of dispersion. Variance measures how far each number in the dataset from the mean\n",
    "# 3. Standard deviation = Standard deviation is a squared root of the variance to get original values. \n",
    "# Low standard deviation indicates data points close to mean. -->"
   ]
  },
  {
   "cell_type": "markdown",
   "id": "bc08f30a-ca5a-4216-b3be-b0bff562e1e1",
   "metadata": {},
   "source": [
    "# Q6. What is a Venn diagram?"
   ]
  },
  {
   "cell_type": "code",
   "execution_count": 68,
   "id": "761a4bd9-03b8-4b95-98be-7b2d092c9456",
   "metadata": {},
   "outputs": [],
   "source": [
    "# A Venn diagram uses overlapping circles or other shapes to illustrate the logical relationships \n",
    "# between two or more sets of items."
   ]
  },
  {
   "cell_type": "markdown",
   "id": "2f9545c0-d856-4fee-b52c-708ecace883e",
   "metadata": {},
   "source": [
    "# Q7. For the two given sets A = (2,3,4,5,6,7) & B = (0,2,6,8,10). \n",
    "# Find:\n",
    "# (i) A B\n",
    "# (ii) A ⋃ B"
   ]
  },
  {
   "cell_type": "code",
   "execution_count": 69,
   "id": "f394b6ff-23ef-424b-b97a-e7ed6badec77",
   "metadata": {},
   "outputs": [],
   "source": [
    "# A INTERSECTION B == {2,6}\n",
    "# A UNION B == {0,2,3,4,5,6,7,8,10}"
   ]
  },
  {
   "cell_type": "markdown",
   "id": "a7f080c1-1ea8-4ad8-b657-d2c7b81863dd",
   "metadata": {},
   "source": [
    "# Q8. What do you understand about skewness in data?"
   ]
  },
  {
   "cell_type": "code",
   "execution_count": 71,
   "id": "8169045d-4e8e-452d-be94-3790cc1b9bf9",
   "metadata": {},
   "outputs": [],
   "source": [
    "# Skewness, in statistics, is the degree of asymmetry observed in a probability distribution.\n",
    "# Distributions can exhibit right (positive) skewness or left (negative) skewness to varying degrees.  \n",
    "# A normal distribution (bell curve) exhibits zero skewness."
   ]
  },
  {
   "cell_type": "markdown",
   "id": "49ca5b49-5b55-45c1-9057-b8297bfcccd8",
   "metadata": {},
   "source": [
    "# Q9. If a data is right skewed then what will be the position of median with respect to mean?"
   ]
  },
  {
   "cell_type": "code",
   "execution_count": 73,
   "id": "6026eb64-349a-46a3-959d-2c9cd4570d35",
   "metadata": {},
   "outputs": [],
   "source": [
    "# MEAN > MEDIAN > MODE \n",
    "# MEDIAN IS IN BETWEEN MEAN AND MODE AND JUST LEFTWARDS WITH RESPECT TO MEAN\n",
    "# MEDIAN IS LESS THAN MEAN"
   ]
  },
  {
   "cell_type": "markdown",
   "id": "9391c0ec-6934-49b3-a355-5da65010230c",
   "metadata": {},
   "source": [
    "# Q10. Explain the difference between covariance and correlation. How are these measures used in statistical analysis?"
   ]
  },
  {
   "cell_type": "code",
   "execution_count": 77,
   "id": "1a47293b-4c29-45e4-97b4-bd3a9c337193",
   "metadata": {},
   "outputs": [],
   "source": [
    "# Covariance : Covariance is an indicator of the extent to which 2 random variables are dependent on each other.\n",
    "# The value of covariance lies in the range of -∞ and +∞.\n",
    "# Positive covariance indicates that increase in one variable indicates an increase in other\n",
    "\n",
    "# Correlation : Correlation is a statistical measure that indicates how strongly two variables are related.\n",
    "# Correlation is limited to values between the range -1 and +1\n",
    "# Close to +1 indicates strong correlation and close to -1 indicates negative correlation\n",
    "\n",
    "# These two statisical analysis helps in the feature selection "
   ]
  },
  {
   "cell_type": "markdown",
   "id": "44c10d57-9ef8-4e1f-96d5-b8abe236d78b",
   "metadata": {},
   "source": [
    "# Q11. What is the formula for calculating the sample mean? Provide an example calculation for a dataset."
   ]
  },
  {
   "cell_type": "code",
   "execution_count": 81,
   "id": "08f520c3-9a50-4893-b731-33fd9c2a8187",
   "metadata": {},
   "outputs": [],
   "source": [
    "# sample mean = (Sum of all observation)/ (Total number of observation)\n",
    "list = [1,2,3,4,5]"
   ]
  },
  {
   "cell_type": "code",
   "execution_count": 82,
   "id": "dab11558-aeca-48a8-832e-889d70a8c122",
   "metadata": {},
   "outputs": [
    {
     "data": {
      "text/plain": [
       "[1, 2, 3, 4, 5]"
      ]
     },
     "execution_count": 82,
     "metadata": {},
     "output_type": "execute_result"
    }
   ],
   "source": [
    "list"
   ]
  },
  {
   "cell_type": "code",
   "execution_count": 84,
   "id": "cc9e70dc-eb0b-4616-b35f-39285159b9f3",
   "metadata": {},
   "outputs": [],
   "source": [
    "import math\n",
    "total = math.fsum(list)"
   ]
  },
  {
   "cell_type": "code",
   "execution_count": 85,
   "id": "804fcd00-d9cd-4bc1-b743-84a1445024eb",
   "metadata": {},
   "outputs": [],
   "source": [
    "mean = total/5"
   ]
  },
  {
   "cell_type": "code",
   "execution_count": 86,
   "id": "96066d14-f17f-4dbb-88d9-185185213123",
   "metadata": {},
   "outputs": [
    {
     "data": {
      "text/plain": [
       "3.0"
      ]
     },
     "execution_count": 86,
     "metadata": {},
     "output_type": "execute_result"
    }
   ],
   "source": [
    "mean"
   ]
  },
  {
   "cell_type": "markdown",
   "id": "e9d68117-decd-49fb-8414-8109ec4c52d5",
   "metadata": {},
   "source": [
    "# Q12. For a normal distribution data what is the relationship between its measure of central tendency?"
   ]
  },
  {
   "cell_type": "code",
   "execution_count": 88,
   "id": "45fb5816-3d93-4967-9eb8-11906a70f1a3",
   "metadata": {},
   "outputs": [],
   "source": [
    "# MEAN = MEDIAN = MODE"
   ]
  },
  {
   "cell_type": "markdown",
   "id": "4e9abd98-04db-477c-982b-019b6e992c33",
   "metadata": {},
   "source": [
    "# Q13. How is covariance different from correlation?"
   ]
  },
  {
   "cell_type": "code",
   "execution_count": 90,
   "id": "7355fc30-becf-4175-8164-f32e8580ac09",
   "metadata": {},
   "outputs": [],
   "source": [
    "# Covariance shows you how the two variables differ,\n",
    "# whereas correlation shows you how the two variables are related.\n",
    "# Numerical value of covarinace does not have any significance, its only show the direction of relation\n",
    "# where as correlation shows both magnitude and direction"
   ]
  },
  {
   "cell_type": "markdown",
   "id": "20cf7f63-7317-41e1-af25-b15d8c2fca64",
   "metadata": {},
   "source": [
    "# Q14. How do outliers affect measures of central tendency and dispersion? Provide an example."
   ]
  },
  {
   "cell_type": "code",
   "execution_count": 92,
   "id": "e113521b-af69-464c-927e-928b4a1dcdfe",
   "metadata": {},
   "outputs": [],
   "source": [
    "# Outliers affect the mean value of the data but have little effect on the median or mode of a given set of data.\n",
    "# for example in Q11 the mean in 3 for list = [1,2,3,4,5] but when we add one oulier for example"
   ]
  },
  {
   "cell_type": "code",
   "execution_count": 93,
   "id": "9e14a38f-9cc3-49f8-83a5-38f2da2cde6f",
   "metadata": {},
   "outputs": [],
   "source": [
    "list2 = [1,2,3,4,500] # 500 is a outlier"
   ]
  },
  {
   "cell_type": "code",
   "execution_count": 95,
   "id": "a5d41539-83aa-4361-9e54-214ba7e0bd93",
   "metadata": {},
   "outputs": [],
   "source": [
    "total = math.fsum(list2)"
   ]
  },
  {
   "cell_type": "code",
   "execution_count": 96,
   "id": "116780ac-9762-4a4b-a0c1-0397e95e8e2e",
   "metadata": {},
   "outputs": [],
   "source": [
    "mean2 = total/5"
   ]
  },
  {
   "cell_type": "code",
   "execution_count": 97,
   "id": "82706133-fbaf-4848-9591-dff6f1fa2091",
   "metadata": {},
   "outputs": [
    {
     "data": {
      "text/plain": [
       "102.0"
      ]
     },
     "execution_count": 97,
     "metadata": {},
     "output_type": "execute_result"
    }
   ],
   "source": [
    "mean2"
   ]
  },
  {
   "cell_type": "code",
   "execution_count": 98,
   "id": "a1c67567-b267-4a31-8246-27e2b4ba3647",
   "metadata": {},
   "outputs": [],
   "source": [
    "# see the new mean is 102 with outlier and 5 is wihout outliers"
   ]
  },
  {
   "cell_type": "code",
   "execution_count": null,
   "id": "5d43c658-a526-466f-8711-5c24eff0bbcd",
   "metadata": {},
   "outputs": [],
   "source": []
  }
 ],
 "metadata": {
  "kernelspec": {
   "display_name": "Python 3 (ipykernel)",
   "language": "python",
   "name": "python3"
  },
  "language_info": {
   "codemirror_mode": {
    "name": "ipython",
    "version": 3
   },
   "file_extension": ".py",
   "mimetype": "text/x-python",
   "name": "python",
   "nbconvert_exporter": "python",
   "pygments_lexer": "ipython3",
   "version": "3.10.8"
  }
 },
 "nbformat": 4,
 "nbformat_minor": 5
}
