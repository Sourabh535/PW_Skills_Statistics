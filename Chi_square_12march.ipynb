{
 "cells": [
  {
   "cell_type": "markdown",
   "id": "61b13864-7eff-4759-8c60-6497bd83e0b0",
   "metadata": {},
   "source": [
    "# CHI SQUARE TEST WITH PYHTON"
   ]
  },
  {
   "cell_type": "code",
   "execution_count": 3,
   "id": "9a27ca1a-b59c-4ea4-b3b9-47422148a1da",
   "metadata": {},
   "outputs": [],
   "source": [
    "import scipy.stats as stat\n",
    "import numpy as np"
   ]
  },
  {
   "cell_type": "code",
   "execution_count": 4,
   "id": "20847c87-aed9-4d64-930f-4f237394008e",
   "metadata": {},
   "outputs": [],
   "source": [
    "# number of hours student studying in a weekly basis \n",
    "# EXPECTED DATA # [8,6,9,7,6,9,7]\n",
    "# OBERVED DATA [7,8,9,4,5,6,7]"
   ]
  },
  {
   "cell_type": "code",
   "execution_count": 11,
   "id": "1270316c-fc00-4a70-9201-166e48ff7b2e",
   "metadata": {},
   "outputs": [],
   "source": [
    "expected = [8,6,9,7,6,9,7]\n",
    "observed = [7,8,9,5,7,9,7]"
   ]
  },
  {
   "cell_type": "code",
   "execution_count": 12,
   "id": "977094ad-f512-4c7f-8f6c-0629f149b100",
   "metadata": {},
   "outputs": [
    {
     "data": {
      "text/plain": [
       "52"
      ]
     },
     "execution_count": 12,
     "metadata": {},
     "output_type": "execute_result"
    }
   ],
   "source": [
    "sum(expected)"
   ]
  },
  {
   "cell_type": "code",
   "execution_count": 13,
   "id": "b2b53bd9-a6a1-440b-9304-77a23dc6fe58",
   "metadata": {},
   "outputs": [
    {
     "data": {
      "text/plain": [
       "52"
      ]
     },
     "execution_count": 13,
     "metadata": {},
     "output_type": "execute_result"
    }
   ],
   "source": [
    "sum(observed )"
   ]
  },
  {
   "cell_type": "code",
   "execution_count": 21,
   "id": "ea79de5a-48ba-49ef-8fa1-11bf9dbfc74e",
   "metadata": {},
   "outputs": [],
   "source": [
    "chi_square_test_statistic, p_value = stat.chisquare(observed,expected)"
   ]
  },
  {
   "cell_type": "code",
   "execution_count": 22,
   "id": "ff310aa6-4949-4dad-9abc-9beb49960cd4",
   "metadata": {},
   "outputs": [
    {
     "data": {
      "text/plain": [
       "(1.5297619047619049, 0.9574931213135768)"
      ]
     },
     "execution_count": 22,
     "metadata": {},
     "output_type": "execute_result"
    }
   ],
   "source": [
    "chi_square_test_statistic, p_value "
   ]
  },
  {
   "cell_type": "code",
   "execution_count": 16,
   "id": "44984165-7819-4b22-b87b-0bb06c3e123d",
   "metadata": {},
   "outputs": [],
   "source": [
    "# finding the critical value"
   ]
  },
  {
   "cell_type": "code",
   "execution_count": 17,
   "id": "f5f2b67c-5c66-4942-a33e-074c5e3006b6",
   "metadata": {},
   "outputs": [
    {
     "name": "stdout",
     "output_type": "stream",
     "text": [
      "6\n"
     ]
    }
   ],
   "source": [
    "significance_level = 0.05\n",
    "dof = len(expected) - 1\n",
    "print(dof)\n",
    "\n",
    "critical_value = stat.chi2.ppf(1-significance_level,dof)"
   ]
  },
  {
   "cell_type": "code",
   "execution_count": 18,
   "id": "0a58d945-6a0c-4b03-8fae-82704b628b2c",
   "metadata": {},
   "outputs": [
    {
     "data": {
      "text/plain": [
       "12.591587243743977"
      ]
     },
     "execution_count": 18,
     "metadata": {},
     "output_type": "execute_result"
    }
   ],
   "source": [
    "critical_value"
   ]
  },
  {
   "cell_type": "code",
   "execution_count": 23,
   "id": "1f59e40e-372f-4074-9d12-e59ac830bab0",
   "metadata": {},
   "outputs": [
    {
     "name": "stdout",
     "output_type": "stream",
     "text": [
      "Accept the null hypothesis\n"
     ]
    }
   ],
   "source": [
    "if chi_square_test_statistic> critical_value:\n",
    "\n",
    "    print(\"Reject Null hypothesis\")\n",
    "else:\n",
    "    print(\"Accept the null hypothesis\")"
   ]
  },
  {
   "cell_type": "code",
   "execution_count": null,
   "id": "ec2a1b2b-7da7-489e-9a90-0ba73a139419",
   "metadata": {},
   "outputs": [],
   "source": []
  }
 ],
 "metadata": {
  "kernelspec": {
   "display_name": "Python 3 (ipykernel)",
   "language": "python",
   "name": "python3"
  },
  "language_info": {
   "codemirror_mode": {
    "name": "ipython",
    "version": 3
   },
   "file_extension": ".py",
   "mimetype": "text/x-python",
   "name": "python",
   "nbconvert_exporter": "python",
   "pygments_lexer": "ipython3",
   "version": "3.10.8"
  }
 },
 "nbformat": 4,
 "nbformat_minor": 5
}
